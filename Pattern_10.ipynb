{
 "cells": [
  {
   "cell_type": "markdown",
   "metadata": {},
   "source": [
    "## Pattern 10"
   ]
  },
  {
   "cell_type": "raw",
   "metadata": {},
   "source": [
    "'''\n",
    "                1 \n",
    "              1   1 \n",
    "            1   2   1 \n",
    "          1   3   3   1 \n",
    "        1   4   6   4   1 \n",
    "      1   5  10  10   5   1 \n",
    "'''"
   ]
  },
  {
   "cell_type": "code",
   "execution_count": 1,
   "metadata": {},
   "outputs": [
    {
     "name": "stdout",
     "output_type": "stream",
     "text": [
      "                1 \n",
      "              1   1 \n",
      "            1   2   1 \n",
      "          1   3   3   1 \n",
      "        1   4   6   4   1 \n",
      "      1   5  10  10   5   1 \n"
     ]
    }
   ],
   "source": [
    "numberOfRows = 7  \n",
    "def formatNumber(number):  \n",
    "  if number<10:  \n",
    "    return \"  \"+str(number) + \" \"  \n",
    "  else:  \n",
    "    return \" \" + str(number) + \" \"  \n",
    "row = [1]  \n",
    "print(\"  \" * 7 + formatNumber(row[0]))  \n",
    "row.append(1)  \n",
    "print(\"  \" * 6 + formatNumber(row[0]) + formatNumber(row[1]))  \n",
    "row.append(2)  \n",
    "print(\"  \" * 5 + formatNumber(row[0]) + formatNumber(row[1]+row[0]) + formatNumber(row[1]))  \n",
    "row.append(3)  \n",
    "print(\"  \" * 4 + formatNumber(row[0]) + formatNumber(row[3]) +formatNumber(row[3]) + formatNumber(row[1]))  \n",
    "row.append(4)  \n",
    "print(\"  \" * 3 + formatNumber(row[0]) + formatNumber(row[4]) + formatNumber(row[4]+row[2]) +formatNumber(row[4]) + formatNumber(row[1]))  \n",
    "row.append(5)  \n",
    "print(\"  \" * 2 + formatNumber(row[0]) + formatNumber(row[5]) + formatNumber(row[5]+row[5]) + formatNumber(row[5]+row[5]) +formatNumber(row[5]) + formatNumber(row[1]))  "
   ]
  },
  {
   "cell_type": "code",
   "execution_count": null,
   "metadata": {},
   "outputs": [],
   "source": []
  }
 ],
 "metadata": {
  "kernelspec": {
   "display_name": "Python 3",
   "language": "python",
   "name": "python3"
  },
  "language_info": {
   "codemirror_mode": {
    "name": "ipython",
    "version": 3
   },
   "file_extension": ".py",
   "mimetype": "text/x-python",
   "name": "python",
   "nbconvert_exporter": "python",
   "pygments_lexer": "ipython3",
   "version": "3.7.0"
  }
 },
 "nbformat": 4,
 "nbformat_minor": 2
}
