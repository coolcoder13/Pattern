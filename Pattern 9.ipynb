{
 "cells": [
  {
   "cell_type": "markdown",
   "metadata": {},
   "source": [
    "## Pattern 9"
   ]
  },
  {
   "cell_type": "raw",
   "metadata": {},
   "source": [
    "'''\n",
    "0\n",
    "909\n",
    "89098\n",
    "7890987\n",
    "678909876\n",
    "56789098765\n",
    "4567890987654\n",
    "345678909876543\n",
    "23456789098765432\n",
    "1234567890987654321\n",
    "'''"
   ]
  },
  {
   "cell_type": "code",
   "execution_count": 1,
   "metadata": {},
   "outputs": [
    {
     "name": "stdout",
     "output_type": "stream",
     "text": [
      "0\n",
      "909\n",
      "89098\n",
      "7890987\n",
      "678909876\n",
      "56789098765\n",
      "4567890987654\n",
      "345678909876543\n",
      "23456789098765432\n",
      "1234567890987654321\n"
     ]
    }
   ],
   "source": [
    "a='0'\n",
    "print(a)\n",
    "for i in range(9,0,-1):\n",
    "    a=str(i)+a+str(i)\n",
    "    print(a)"
   ]
  },
  {
   "cell_type": "code",
   "execution_count": null,
   "metadata": {},
   "outputs": [],
   "source": []
  }
 ],
 "metadata": {
  "kernelspec": {
   "display_name": "Python 3",
   "language": "python",
   "name": "python3"
  },
  "language_info": {
   "codemirror_mode": {
    "name": "ipython",
    "version": 3
   },
   "file_extension": ".py",
   "mimetype": "text/x-python",
   "name": "python",
   "nbconvert_exporter": "python",
   "pygments_lexer": "ipython3",
   "version": "3.7.0"
  }
 },
 "nbformat": 4,
 "nbformat_minor": 2
}
