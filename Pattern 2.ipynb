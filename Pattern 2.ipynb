{
 "cells": [
  {
   "cell_type": "markdown",
   "metadata": {},
   "source": [
    "## Pattern 2"
   ]
  },
  {
   "cell_type": "code",
   "execution_count": 1,
   "metadata": {},
   "outputs": [
    {
     "name": "stdout",
     "output_type": "stream",
     "text": [
      "$$$$$$$$$$$$$$$$$$$$\n",
      "$$$$$$$$$  $$$$$$$$$\n",
      "$$$$$$$$    $$$$$$$$\n",
      "$$$$$$$      $$$$$$$\n",
      "$$$$$$        $$$$$$\n",
      "$$$$$          $$$$$\n",
      "$$$$            $$$$\n",
      "$$$              $$$\n",
      "$$                $$\n",
      "$                  $\n",
      "$$                $$\n",
      "$$$              $$$\n",
      "$$$$            $$$$\n",
      "$$$$$          $$$$$\n",
      "$$$$$$        $$$$$$\n",
      "$$$$$$$      $$$$$$$\n",
      "$$$$$$$$    $$$$$$$$\n",
      "$$$$$$$$$  $$$$$$$$$\n",
      "$$$$$$$$$$$$$$$$$$$$\n"
     ]
    }
   ],
   "source": [
    "j=0\n",
    "v=10\n",
    "for i in range(v,0,-1):\n",
    "    print(('$'*i),end='')\n",
    "    print((' '*j),end='')\n",
    "    print('$'*i)\n",
    "    j+=2\n",
    "j-=4\n",
    "for i in range(2,v+1):\n",
    "    print(('$'*i),end='')\n",
    "    print((' '*j),end='')\n",
    "    print('$'*i)\n",
    "    j-=2\n"
   ]
  },
  {
   "cell_type": "code",
   "execution_count": null,
   "metadata": {},
   "outputs": [],
   "source": []
  }
 ],
 "metadata": {
  "kernelspec": {
   "display_name": "Python 3",
   "language": "python",
   "name": "python3"
  },
  "language_info": {
   "codemirror_mode": {
    "name": "ipython",
    "version": 3
   },
   "file_extension": ".py",
   "mimetype": "text/x-python",
   "name": "python",
   "nbconvert_exporter": "python",
   "pygments_lexer": "ipython3",
   "version": "3.7.0"
  }
 },
 "nbformat": 4,
 "nbformat_minor": 2
}
