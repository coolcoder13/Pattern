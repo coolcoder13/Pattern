{
 "cells": [
  {
   "cell_type": "markdown",
   "metadata": {},
   "source": [
    "## Pattern 7"
   ]
  },
  {
   "cell_type": "raw",
   "metadata": {},
   "source": [
    "'''\n",
    " 1       1 \n",
    "  2     2  \n",
    "   3   3   \n",
    "     4      \n",
    "   3   3     \n",
    "  2     2    \n",
    " 1       1   \n",
    "'''"
   ]
  },
  {
   "cell_type": "code",
   "execution_count": 1,
   "metadata": {},
   "outputs": [
    {
     "name": "stdout",
     "output_type": "stream",
     "text": [
      " 1       1 \n",
      "  2     2  \n",
      "   3   3   \n",
      "     4      \n",
      "   3   3     \n",
      "  2     2    \n",
      " 1       1   \n"
     ]
    }
   ],
   "source": [
    "def ff(n):\n",
    "    s=n+1\n",
    "    for i in range(n-1):\n",
    "        print(' '*i,i+1,' '*s,i+1,' '*i)\n",
    "        s-=2\n",
    "    j=4\n",
    "    print(' '*j,j,' '*s,' '*j)\n",
    "    s=n-3\n",
    "    for i in range(n-1,0,-1):\n",
    "        print(' '*(i-1),i,' '*s,i,' '*(i+1))\n",
    "        s+=2\n",
    "        \n",
    "ff(4)"
   ]
  },
  {
   "cell_type": "code",
   "execution_count": null,
   "metadata": {},
   "outputs": [],
   "source": []
  }
 ],
 "metadata": {
  "kernelspec": {
   "display_name": "Python 3",
   "language": "python",
   "name": "python3"
  },
  "language_info": {
   "codemirror_mode": {
    "name": "ipython",
    "version": 3
   },
   "file_extension": ".py",
   "mimetype": "text/x-python",
   "name": "python",
   "nbconvert_exporter": "python",
   "pygments_lexer": "ipython3",
   "version": "3.7.0"
  }
 },
 "nbformat": 4,
 "nbformat_minor": 2
}
