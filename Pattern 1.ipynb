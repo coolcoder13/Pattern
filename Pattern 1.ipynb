{
 "cells": [
  {
   "cell_type": "markdown",
   "metadata": {},
   "source": [
    "## Pattern 1\n",
    "\n",
    "'''\n",
    "                             *                              \n",
    "                           * * *                            \n",
    "                         * * * * *                          \n",
    "                       * * * * * * *                        \n",
    "                     * * * * * * * * *                      \n",
    "                   * * * * * * * * * * *                    \n",
    "                 * * * * * * * * * * * * *                  \n",
    "               * * * * * * * * * * * * * * *                \n",
    "             * * * * * * * * * * * * * * * * *              \n",
    "           * * * * * * * * * * * * * * * * * * *            \n",
    "             * * * * * * * * * * * * * * * * *              \n",
    "               * * * * * * * * * * * * * * *                \n",
    "                 * * * * * * * * * * * * *                  \n",
    "                   * * * * * * * * * * *                    \n",
    "                     * * * * * * * * *                      \n",
    "                       * * * * * * *                        \n",
    "                         * * * * *                          \n",
    "                           * * *                            \n",
    "                             *                              \n",
    "'''"
   ]
  },
  {
   "cell_type": "code",
   "execution_count": 3,
   "metadata": {},
   "outputs": [
    {
     "name": "stdout",
     "output_type": "stream",
     "text": [
      "                             *                              \n",
      "                           * * *                            \n",
      "                         * * * * *                          \n",
      "                       * * * * * * *                        \n",
      "                     * * * * * * * * *                      \n",
      "                   * * * * * * * * * * *                    \n",
      "                 * * * * * * * * * * * * *                  \n",
      "               * * * * * * * * * * * * * * *                \n",
      "             * * * * * * * * * * * * * * * * *              \n",
      "           * * * * * * * * * * * * * * * * * * *            \n",
      "             * * * * * * * * * * * * * * * * *              \n",
      "               * * * * * * * * * * * * * * *                \n",
      "                 * * * * * * * * * * * * *                  \n",
      "                   * * * * * * * * * * *                    \n",
      "                     * * * * * * * * *                      \n",
      "                       * * * * * * *                        \n",
      "                         * * * * *                          \n",
      "                           * * *                            \n",
      "                             *                              \n"
     ]
    }
   ],
   "source": [
    "for i in range(1,20,2):\n",
    "    print(('* '*i).center(60))\n",
    "for i in range(17,0,-2):\n",
    "    print(('* '*i).center(60))"
   ]
  }
 ],
 "metadata": {
  "kernelspec": {
   "display_name": "Python 3",
   "language": "python",
   "name": "python3"
  },
  "language_info": {
   "codemirror_mode": {
    "name": "ipython",
    "version": 3
   },
   "file_extension": ".py",
   "mimetype": "text/x-python",
   "name": "python",
   "nbconvert_exporter": "python",
   "pygments_lexer": "ipython3",
   "version": "3.7.0"
  }
 },
 "nbformat": 4,
 "nbformat_minor": 2
}
