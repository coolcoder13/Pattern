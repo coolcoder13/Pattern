{
 "cells": [
  {
   "cell_type": "markdown",
   "metadata": {},
   "source": [
    "## Pattern 3"
   ]
  },
  {
   "cell_type": "code",
   "execution_count": 2,
   "metadata": {},
   "outputs": [
    {
     "name": "stdout",
     "output_type": "stream",
     "text": [
      "*                 * \n",
      "* *             * * \n",
      "* * *         * * * \n",
      "* * * *     * * * * \n",
      "* * * * * * * * * * \n",
      "* * * * * * * * * * \n",
      "* * * *     * * * * \n",
      "* * *         * * * \n",
      "* *             * * \n",
      "*                 * \n"
     ]
    },
    {
     "data": {
      "text/plain": [
       "'\\n*                 * \\n* *             * * \\n* * *         * * * \\n* * * *     * * * * \\n* * * * * * * * * * \\n* * * * * * * * * * \\n* * * *     * * * * \\n* * *         * * * \\n* *             * * \\n*                 * \\n'"
      ]
     },
     "execution_count": 2,
     "metadata": {},
     "output_type": "execute_result"
    }
   ],
   "source": [
    "for i in range(1,6):\n",
    "    print(\"* \"*i,end='')\n",
    "    print(\"  \"*(10-i*2),end='')\n",
    "    print(\"* \"*i)\n",
    "for i in range(5,0,-1):\n",
    "    print(\"* \"*i,end='')\n",
    "    print(\"  \"*(10-i*2),end='')\n",
    "    print(\"* \"*i)\n",
    "\n",
    "'''\n",
    "*                 * \n",
    "* *             * * \n",
    "* * *         * * * \n",
    "* * * *     * * * * \n",
    "* * * * * * * * * * \n",
    "* * * * * * * * * * \n",
    "* * * *     * * * * \n",
    "* * *         * * * \n",
    "* *             * * \n",
    "*                 * \n",
    "'''"
   ]
  },
  {
   "cell_type": "code",
   "execution_count": null,
   "metadata": {},
   "outputs": [],
   "source": []
  }
 ],
 "metadata": {
  "kernelspec": {
   "display_name": "Python 3",
   "language": "python",
   "name": "python3"
  },
  "language_info": {
   "codemirror_mode": {
    "name": "ipython",
    "version": 3
   },
   "file_extension": ".py",
   "mimetype": "text/x-python",
   "name": "python",
   "nbconvert_exporter": "python",
   "pygments_lexer": "ipython3",
   "version": "3.7.0"
  }
 },
 "nbformat": 4,
 "nbformat_minor": 2
}
